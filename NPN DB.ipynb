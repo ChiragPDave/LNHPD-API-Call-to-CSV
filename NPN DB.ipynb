{
 "cells": [
  {
   "cell_type": "code",
   "execution_count": 85,
   "metadata": {},
   "outputs": [],
   "source": [
    "import requests\n",
    "import json\n",
    "import pandas as pd\n",
    "import csv\n",
    "import os"
   ]
  },
  {
   "cell_type": "code",
   "execution_count": null,
   "metadata": {},
   "outputs": [],
   "source": [
    "response_API = requests.get('https://health-products.canada.ca/api/natural-licences/medicinalingredient/?lang=en&type=json&page=1')\n",
    "print(response_API.status_code)\n",
    "data = response_API.text"
   ]
  },
  {
   "cell_type": "code",
   "execution_count": 86,
   "metadata": {},
   "outputs": [
    {
     "name": "stdout",
     "output_type": "stream",
     "text": [
      "200\n"
     ]
    }
   ],
   "source": [
    "#parse the data from the API into a dictionary\n",
    "parse_json = json.loads(data)\n",
    "temp_list = parse_json['data']"
   ]
  },
  {
   "cell_type": "code",
   "execution_count": 127,
   "metadata": {},
   "outputs": [],
   "source": [
    "csv_file = 'medicinal_ingredients.csv'\n",
    "\n",
    "for i in range(len(temp_list)):\n",
    "    write_dict = temp_list[i]\n",
    "        \n",
    "    #write the dictionary entry to the CSV\n",
    "    df = pd.DataFrame.from_dict(write_dict,orient='index')\n",
    "    final_df = df.transpose()\n",
    "    if i == 0:\n",
    "        final_df.to_csv(csv_file, mode = 'a', index = False)\n",
    "    else:\n",
    "        final_df.to_csv(csv_file, mode = 'a', index = False, header = not os.path.exists(csv_file))"
   ]
  },
  {
   "cell_type": "code",
   "execution_count": null,
   "metadata": {},
   "outputs": [],
   "source": [
    "#Next feature: advancing through all the pages available "
   ]
  }
 ],
 "metadata": {
  "kernelspec": {
   "display_name": "Python 3",
   "language": "python",
   "name": "python3"
  },
  "language_info": {
   "codemirror_mode": {
    "name": "ipython",
    "version": 3
   },
   "file_extension": ".py",
   "mimetype": "text/x-python",
   "name": "python",
   "nbconvert_exporter": "python",
   "pygments_lexer": "ipython3",
   "version": "3.8.5"
  }
 },
 "nbformat": 4,
 "nbformat_minor": 4
}
