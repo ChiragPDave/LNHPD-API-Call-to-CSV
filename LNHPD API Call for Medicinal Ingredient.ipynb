{
 "cells": [
  {
   "cell_type": "code",
   "execution_count": null,
   "metadata": {},
   "outputs": [],
   "source": [
    "import requests\n",
    "import json\n",
    "import pandas as pd\n",
    "import csv\n",
    "import os\n",
    "import time\n",
    "\n",
    "link = 'medicinalingredient?lang=en&type=json&page=1'\n",
    "csv_file = 'medicinal_ingredients.csv'\n",
    "\n",
    "response_API = requests.get(f'https://health-products.canada.ca/api/natural-licences/{link}')\n",
    "print(f'The API has responded: {response_API.status_code}')\n",
    "data = response_API.text\n",
    "parse_json = json.loads(data)\n",
    "data_list = parse_json['data']\n",
    "next_page = parse_json['metadata']['pagination']['next']\n",
    "\n",
    "for i in range(len(data_list)):\n",
    "    write_dict = data_list[i]\n",
    "        \n",
    "    #write the dictionary entry to the CSV\n",
    "    df = pd.DataFrame.from_dict(write_dict,orient='index')\n",
    "    final_df = df.transpose()\n",
    "    if i != 0:\n",
    "        final_df.to_csv(csv_file, mode = 'a', index = False, header = not os.path.exists(csv_file))\n",
    "    else:\n",
    "        final_df.to_csv(csv_file, mode = 'a', index = False)"
   ]
  },
  {
   "cell_type": "code",
   "execution_count": null,
   "metadata": {},
   "outputs": [],
   "source": [
    "#after calling the API for the first time, this section will loop through all entries until the end\n",
    "\n",
    "iter_loop = False\n",
    "\n",
    "while iter_loop == False:\n",
    "    print(f'We are now on page {next_page}')\n",
    "    if next_page != 'null':\n",
    "        response_API = requests.get(f'https://health-products.canada.ca/api/natural-licences/{next_page}')\n",
    "        print(f'The API has responded: {response_API.status_code}')\n",
    "        \n",
    "        if response_API.status_code == 200:\n",
    "            data = response_API.text\n",
    "            parse_json = json.loads(data)\n",
    "            data_list = parse_json['data']\n",
    "            next_page = parse_json['metadata']['pagination']['next']\n",
    "\n",
    "            for i in range(len(data_list)):\n",
    "                write_dict = data_list[i]\n",
    "\n",
    "                #write the dictionary entry to the CSV\n",
    "                df = pd.DataFrame.from_dict(write_dict,orient='index')\n",
    "                final_df = df.transpose()\n",
    "                final_df.to_csv(csv_file, mode = 'a', index = False, header = not os.path.exists(csv_file))\n",
    "        else:\n",
    "            print(f'The API has stopped providing data at {time.localtime()}')\n",
    "            break\n",
    "    else:\n",
    "        iter_loop = True"
   ]
  },
  {
   "cell_type": "code",
   "execution_count": null,
   "metadata": {},
   "outputs": [],
   "source": []
  }
 ],
 "metadata": {
  "kernelspec": {
   "display_name": "Python 3",
   "language": "python",
   "name": "python3"
  },
  "language_info": {
   "codemirror_mode": {
    "name": "ipython",
    "version": 3
   },
   "file_extension": ".py",
   "mimetype": "text/x-python",
   "name": "python",
   "nbconvert_exporter": "python",
   "pygments_lexer": "ipython3",
   "version": "3.8.5"
  }
 },
 "nbformat": 4,
 "nbformat_minor": 4
}
